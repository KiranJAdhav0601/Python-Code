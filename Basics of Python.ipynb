{
 "cells": [
  {
   "cell_type": "markdown",
   "id": "763b6021-7015-4b8c-8e44-08d2bee36e10",
   "metadata": {},
   "source": [
    "#### Name: Kiran Ashok Jadhav\n",
    "#### Assignment: Basics of Python"
   ]
  },
  {
   "cell_type": "markdown",
   "id": "a07d85ff-81e2-4dbb-9fa2-47f2db390cbb",
   "metadata": {},
   "source": [
    "#### 1. Prime Numbers"
   ]
  },
  {
   "cell_type": "code",
   "execution_count": 5,
   "id": "0052b5ba-08eb-4229-ace9-15f88d4aae86",
   "metadata": {},
   "outputs": [
    {
     "name": "stdin",
     "output_type": "stream",
     "text": [
      "Enter a number:  35\n"
     ]
    },
    {
     "name": "stdout",
     "output_type": "stream",
     "text": [
      "35  is not a prime number.\n"
     ]
    }
   ],
   "source": [
    "num = int(input(\"Enter a number: \"))                 #take input from user\n",
    "if num==1:                                           #check the number is prime or not\n",
    "          print(num,\"is a prime number.\")            #we know 1 is a prime number\n",
    "elif num>1:                                          #for numbers greater than 1\n",
    "    for i in range(2,num):                           #take range from 2 upto the number entered\n",
    "        if (num%i)==0:                               #if number is divisible by i, it's not a prime number\n",
    "            print(num,\" is not a prime number.\")\n",
    "            break                                    #break is required to stop where we get the result\n",
    "    else:          \n",
    "        print(num, \" is a prime number.\")            #if number is divisible by i in range (2 upto given number), it's a prime number.\n",
    "else:\n",
    "   print(\"Enter a valid positive number.\")           #we are writing code for positive number starting from 1. S0, 0 and negative numbers become invalid."
   ]
  },
  {
   "cell_type": "markdown",
   "id": "22df1bdc-1766-4f5a-aa35-f3da5c166d69",
   "metadata": {},
   "source": [
    "####"
   ]
  },
  {
   "cell_type": "markdown",
   "id": "2fd87eb3-82e7-4271-9043-f209628feefe",
   "metadata": {},
   "source": [
    "#### 2. Product of Random Numbers"
   ]
  },
  {
   "cell_type": "code",
   "execution_count": 6,
   "id": "c1d29f73-76dd-4e06-a4f7-f83a5794f44f",
   "metadata": {},
   "outputs": [
    {
     "name": "stdout",
     "output_type": "stream",
     "text": [
      "9 24\n"
     ]
    },
    {
     "name": "stdin",
     "output_type": "stream",
     "text": [
      "Enter the product of given number:  89\n"
     ]
    },
    {
     "name": "stdout",
     "output_type": "stream",
     "text": [
      "Wrong Answer....!!!\n"
     ]
    }
   ],
   "source": [
    "import random\n",
    "num1=random.randint(0,100)                             #generate 1st random number\n",
    "num2=random.randint(0,100)                             #generate 2nd random number\n",
    "print(num1,num2)\n",
    "ans=int(input(\"Enter the product of given number: \"))  #ask user to enter the product of the numbers and take it as input\n",
    "if ans==num1*num2:                                     #check the product of number is right or wrong and display the results\n",
    "    print(\"Right Answer....!!!\")\n",
    "else:\n",
    "    print(\"Wrong Answer....!!!\")"
   ]
  },
  {
   "cell_type": "markdown",
   "id": "c849d125-760b-4617-a766-b19e09a8319c",
   "metadata": {},
   "source": [
    "####"
   ]
  },
  {
   "cell_type": "markdown",
   "id": "3fb8d486-e54e-4627-97ba-323c2853437b",
   "metadata": {},
   "source": [
    "#### 3. Squares of Even / Odd Numbers"
   ]
  },
  {
   "cell_type": "code",
   "execution_count": 21,
   "id": "1ba94db9-aafc-4cff-b7c1-831918ff6e90",
   "metadata": {},
   "outputs": [
    {
     "name": "stdin",
     "output_type": "stream",
     "text": [
      "Enter ever or odd:  even\n"
     ]
    },
    {
     "name": "stdout",
     "output_type": "stream",
     "text": [
      "Sqaure of all the even values in the range 100 to 200:\n",
      "10000\n",
      "10404\n",
      "10816\n",
      "11236\n",
      "11664\n",
      "12100\n",
      "12544\n",
      "12996\n",
      "13456\n",
      "13924\n",
      "14400\n",
      "14884\n",
      "15376\n",
      "15876\n",
      "16384\n",
      "16900\n",
      "17424\n",
      "17956\n",
      "18496\n",
      "19044\n",
      "19600\n",
      "20164\n",
      "20736\n",
      "21316\n",
      "21904\n",
      "22500\n",
      "23104\n",
      "23716\n",
      "24336\n",
      "24964\n",
      "25600\n",
      "26244\n",
      "26896\n",
      "27556\n",
      "28224\n",
      "28900\n",
      "29584\n",
      "30276\n",
      "30976\n",
      "31684\n",
      "32400\n",
      "33124\n",
      "33856\n",
      "34596\n",
      "35344\n",
      "36100\n",
      "36864\n",
      "37636\n",
      "38416\n",
      "39204\n",
      "40000\n"
     ]
    }
   ],
   "source": [
    "choice=str(input(\"Enter ever or odd: \"))                              #Take choice from user\n",
    "if choice==\"even\":                                                    #if the choice is even print square of even numbers in range 100 to 200\n",
    "    print(\"Sqaure of all the even values in the range 100 to 200:\")\n",
    "    for i in range(100,201):                                          #for range we took the last number as n+1\n",
    "        if (i%2)==0:                                                  #if i in range is divisible by 2 then it's an even number\n",
    "            print(i*i)\n",
    "elif choice==\"odd\":                                                   #if i in range is not divisible by 2 then it's a odd number\n",
    "    print(\"Sqaure of all the odd values in the range 100 to 200:\")\n",
    "    for i in range(100,201):\n",
    "        if (i%2)!=0:\n",
    "            print(i*i)\n",
    "else:\n",
    "    print(\"Invalid Input.\")                                          #input other than 'even' or 'odd' is an invalid input"
   ]
  },
  {
   "cell_type": "markdown",
   "id": "12f9c328-8bca-4dad-9890-546c1fcff1bb",
   "metadata": {},
   "source": [
    "####"
   ]
  },
  {
   "cell_type": "markdown",
   "id": "f4a3a9aa-b75a-4851-a3a1-8b83461086aa",
   "metadata": {},
   "source": [
    "#### 4. Word Counter"
   ]
  },
  {
   "cell_type": "code",
   "execution_count": 19,
   "id": "e924d43a-add4-4acd-854a-1a578b629d9f",
   "metadata": {},
   "outputs": [
    {
     "name": "stdout",
     "output_type": "stream",
     "text": [
      "This is a sample text. This text will be used to demonstrate the word counter.\n"
     ]
    },
    {
     "name": "stdin",
     "output_type": "stream",
     "text": [
      "Enter any word from given text:  text.\n"
     ]
    },
    {
     "name": "stdout",
     "output_type": "stream",
     "text": [
      "The count of  text.  is  1\n"
     ]
    }
   ],
   "source": [
    "input_text = \"This is a sample text. This text will be used to demonstrate the word counter.\"\n",
    "print(input_text)                                                                              #print the input text\n",
    "word=str(input(\"Enter any word from given text: \"))                                            #take word as a input\n",
    "y={}                                                                                           #define the sentence as list\n",
    "count=0                                                                                        #set intial count of word as 0\n",
    "y=input_text.split(\" \")                                                                        #split the sentence into list on the basis of <space>                                                                            \n",
    "for i in range (0,len(y)):                                                                     #in range from 0 to length of list, count for the word\n",
    "    if word==y[i]:\n",
    "        count=count+1\n",
    "        print(\"The count of \",word,\" is \",count)                                               #print the result"
   ]
  },
  {
   "cell_type": "markdown",
   "id": "856dd4d7-f963-4ffd-9a92-d517aea905ea",
   "metadata": {},
   "source": [
    "####"
   ]
  },
  {
   "cell_type": "markdown",
   "id": "8e911cdc-8fb6-4111-9be4-21f22634a64a",
   "metadata": {},
   "source": [
    "#### 5. Check for Palindrome"
   ]
  },
  {
   "cell_type": "code",
   "execution_count": 20,
   "id": "0787c91d-7d94-4b0e-8352-68f799e1b778",
   "metadata": {},
   "outputs": [
    {
     "name": "stdin",
     "output_type": "stream",
     "text": [
      "Enter a string:  racecar\n"
     ]
    },
    {
     "name": "stdout",
     "output_type": "stream",
     "text": [
      "True\n"
     ]
    }
   ],
   "source": [
    "def is_palindrome(string):                         \n",
    "    string = string.lower().replace(\" \", \"\")            # Convert the string to lowercase and remove spaces\n",
    "    reversed_string = string[::-1]                      # Reverse the string\n",
    "    if string == reversed_string:                       # Check if the string and its reverse are equal\n",
    "        return True\n",
    "    else:\n",
    "        return False                                    # Test the function\n",
    "input_string = input(\"Enter a string: \")\n",
    "if is_palindrome(input_string):\n",
    "    print(\"True\")\n",
    "else:\n",
    "    print(\"False\")"
   ]
  },
  {
   "cell_type": "code",
   "execution_count": null,
   "id": "78413e95-9452-4e7a-a48d-28b03685418e",
   "metadata": {},
   "outputs": [],
   "source": []
  }
 ],
 "metadata": {
  "kernelspec": {
   "display_name": "Python 3 (ipykernel)",
   "language": "python",
   "name": "python3"
  },
  "language_info": {
   "codemirror_mode": {
    "name": "ipython",
    "version": 3
   },
   "file_extension": ".py",
   "mimetype": "text/x-python",
   "name": "python",
   "nbconvert_exporter": "python",
   "pygments_lexer": "ipython3",
   "version": "3.11.7"
  }
 },
 "nbformat": 4,
 "nbformat_minor": 5
}
